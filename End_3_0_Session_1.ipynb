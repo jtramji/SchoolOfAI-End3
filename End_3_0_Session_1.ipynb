{
  "nbformat": 4,
  "nbformat_minor": 0,
  "metadata": {
    "colab": {
      "name": "End 3.0 Session 1.ipynb",
      "provenance": [],
      "collapsed_sections": [],
      "include_colab_link": true
    },
    "kernelspec": {
      "name": "python3",
      "display_name": "Python 3"
    },
    "language_info": {
      "name": "python"
    }
  },
  "cells": [
    {
      "cell_type": "markdown",
      "metadata": {
        "id": "view-in-github",
        "colab_type": "text"
      },
      "source": [
        "<a href=\"https://colab.research.google.com/github/jtramji/SchoolOfAI-End3/blob/main/End_3_0_Session_1.ipynb\" target=\"_parent\"><img src=\"https://colab.research.google.com/assets/colab-badge.svg\" alt=\"Open In Colab\"/></a>"
      ]
    },
    {
      "cell_type": "code",
      "metadata": {
        "colab": {
          "base_uri": "https://localhost:8080/"
        },
        "id": "GC_6PeobwwkH",
        "outputId": "bb0253e0-e792-4331-893e-7e20f67bd727"
      },
      "source": [
        "import torch\n",
        "from torch.autograd import Variable\n",
        "import torch.nn as nn\n",
        "import torch.nn.functional as F\n",
        "import torch.optim as optim\n",
        "import numpy as np\n",
        "import matplotlib.pyplot as plt\n",
        "%matplotlib inline\n",
        "torch.manual_seed(2)"
      ],
      "execution_count": 1,
      "outputs": [
        {
          "output_type": "execute_result",
          "data": {
            "text/plain": [
              "<torch._C.Generator at 0x7fd70403ca90>"
            ]
          },
          "metadata": {},
          "execution_count": 1
        }
      ]
    },
    {
      "cell_type": "code",
      "metadata": {
        "id": "bL64bMTkw2GP"
      },
      "source": [
        "X = torch.Tensor([[0,0], [0,1], [1,0], [1,1]])\n",
        "Y = torch.Tensor([0, 1, 1, 0]).view(-1,1)"
      ],
      "execution_count": 2,
      "outputs": []
    },
    {
      "cell_type": "markdown",
      "metadata": {
        "id": "9C1siLj_biZQ"
      },
      "source": [
        "Explore X and Y Variable"
      ]
    },
    {
      "cell_type": "code",
      "metadata": {
        "colab": {
          "base_uri": "https://localhost:8080/"
        },
        "id": "0g4g8crtbh70",
        "outputId": "ce89a449-9501-403a-851e-eb603fe9d4c0"
      },
      "source": [
        "print(X)\n",
        "print(Y)"
      ],
      "execution_count": 4,
      "outputs": [
        {
          "output_type": "stream",
          "name": "stdout",
          "text": [
            "tensor([[0., 0.],\n",
            "        [0., 1.],\n",
            "        [1., 0.],\n",
            "        [1., 1.]])\n",
            "tensor([[0.],\n",
            "        [1.],\n",
            "        [1.],\n",
            "        [0.]])\n"
          ]
        }
      ]
    },
    {
      "cell_type": "markdown",
      "metadata": {
        "id": "40EQEm8qb5CQ"
      },
      "source": [
        "# Default Class with Forward without any change"
      ]
    },
    {
      "cell_type": "code",
      "metadata": {
        "id": "aC82kEAIw3Wf"
      },
      "source": [
        "class XOR(nn.Module):\n",
        "    def __init__(self, input_dim = 2, output_dim=1):\n",
        "        super(XOR, self).__init__()\n",
        "        self.lin1 = nn.Linear(input_dim, 2)\n",
        "        self.lin2 = nn.Linear(2, output_dim)\n",
        "    \n",
        "    def forward(self, x):\n",
        "        x = self.lin1(x)\n",
        "        x = F.tanh(x)\n",
        "        x = self.lin2(x)\n",
        "        x = F.tanh(x)\n",
        "        return x"
      ],
      "execution_count": 5,
      "outputs": []
    },
    {
      "cell_type": "code",
      "metadata": {
        "colab": {
          "base_uri": "https://localhost:8080/"
        },
        "id": "8gQIQExYw65K",
        "outputId": "418252af-fe5e-4980-9452-c797a1a6e60c"
      },
      "source": [
        "model = XOR()\n",
        "print(model)\n",
        "from torchsummary import summary\n",
        "summary(model, (2,2))"
      ],
      "execution_count": 10,
      "outputs": [
        {
          "output_type": "stream",
          "name": "stdout",
          "text": [
            "XOR(\n",
            "  (lin1): Linear(in_features=2, out_features=2, bias=True)\n",
            "  (lin2): Linear(in_features=2, out_features=1, bias=True)\n",
            ")\n",
            "----------------------------------------------------------------\n",
            "        Layer (type)               Output Shape         Param #\n",
            "================================================================\n",
            "            Linear-1                 [-1, 2, 2]               6\n",
            "            Linear-2                 [-1, 2, 1]               3\n",
            "================================================================\n",
            "Total params: 9\n",
            "Trainable params: 9\n",
            "Non-trainable params: 0\n",
            "----------------------------------------------------------------\n",
            "Input size (MB): 0.00\n",
            "Forward/backward pass size (MB): 0.00\n",
            "Params size (MB): 0.00\n",
            "Estimated Total Size (MB): 0.00\n",
            "----------------------------------------------------------------\n"
          ]
        },
        {
          "output_type": "stream",
          "name": "stderr",
          "text": [
            "/usr/local/lib/python3.7/dist-packages/torch/nn/functional.py:1794: UserWarning: nn.functional.tanh is deprecated. Use torch.tanh instead.\n",
            "  warnings.warn(\"nn.functional.tanh is deprecated. Use torch.tanh instead.\")\n"
          ]
        }
      ]
    },
    {
      "cell_type": "markdown",
      "metadata": {
        "id": "m4yDDVyncGrz"
      },
      "source": [
        "From Above execution we find \n",
        "* two *layers* with Linear function\n",
        "* trainable params of size 9"
      ]
    },
    {
      "cell_type": "markdown",
      "metadata": {
        "id": "XsOkrHp1dqme"
      },
      "source": [
        "# Our Task is to Create trainable parameters of size 44 removing Last function and run the model ofr 2001 epochs \n",
        "\n",
        "## Following are the tasks to be performed\n",
        "\n",
        "* remove the last activation function\n",
        "* make sure there are in total 44 parameters\n",
        "* run it for 2001 epochs"
      ]
    },
    {
      "cell_type": "code",
      "metadata": {
        "id": "q2zNXMnveKNz"
      },
      "source": [
        "class XOR(nn.Module):\n",
        "    def __init__(self, input_dim = 2, output_dim=1):\n",
        "        super(XOR, self).__init__()\n",
        "        self.lin1 = nn.Linear(input_dim, 6,bias=True)\n",
        "        self.lin2 = nn.Linear(6, 2,bias=True)\n",
        "        self.lin3 = nn.Linear(2,4,bias=True)\n",
        "\n",
        "    \n",
        "    def forward(self, x):\n",
        "        x = self.lin1(x)\n",
        "        x = F.tanh(x)\n",
        "        x = self.lin2(x)\n",
        "        x = F.tanh(x)\n",
        "        x = self.lin3(x)\n",
        "        #x = F.tanh(x)\n",
        "        return x"
      ],
      "execution_count": 63,
      "outputs": []
    },
    {
      "cell_type": "code",
      "metadata": {
        "colab": {
          "base_uri": "https://localhost:8080/"
        },
        "id": "FtdACnMieKAE",
        "outputId": "a8714848-088b-4f7a-8b46-86223be408ce"
      },
      "source": [
        "model = XOR()\n",
        "print(model)\n",
        "from torchsummary import summary\n",
        "summary(model, (2,2))"
      ],
      "execution_count": 64,
      "outputs": [
        {
          "output_type": "stream",
          "name": "stdout",
          "text": [
            "XOR(\n",
            "  (lin1): Linear(in_features=2, out_features=6, bias=True)\n",
            "  (lin2): Linear(in_features=6, out_features=2, bias=True)\n",
            "  (lin3): Linear(in_features=2, out_features=4, bias=True)\n",
            ")\n",
            "----------------------------------------------------------------\n",
            "        Layer (type)               Output Shape         Param #\n",
            "================================================================\n",
            "            Linear-1                 [-1, 2, 6]              18\n",
            "            Linear-2                 [-1, 2, 2]              14\n",
            "            Linear-3                 [-1, 2, 4]              12\n",
            "================================================================\n",
            "Total params: 44\n",
            "Trainable params: 44\n",
            "Non-trainable params: 0\n",
            "----------------------------------------------------------------\n",
            "Input size (MB): 0.00\n",
            "Forward/backward pass size (MB): 0.00\n",
            "Params size (MB): 0.00\n",
            "Estimated Total Size (MB): 0.00\n",
            "----------------------------------------------------------------\n"
          ]
        },
        {
          "output_type": "stream",
          "name": "stderr",
          "text": [
            "/usr/local/lib/python3.7/dist-packages/torch/nn/functional.py:1794: UserWarning: nn.functional.tanh is deprecated. Use torch.tanh instead.\n",
            "  warnings.warn(\"nn.functional.tanh is deprecated. Use torch.tanh instead.\")\n"
          ]
        }
      ]
    },
    {
      "cell_type": "code",
      "metadata": {
        "id": "Ok_CsdwFeJrh"
      },
      "source": [
        ""
      ],
      "execution_count": null,
      "outputs": []
    },
    {
      "cell_type": "code",
      "metadata": {
        "id": "yeotEq19x6XF"
      },
      "source": [
        "def weights_init(model):\n",
        "    for m in model.modules():\n",
        "        if isinstance(m, nn.Linear):\n",
        "            # initialize the weight tensor, here we use a normal distribution\n",
        "            m.weight.data.normal_(0, 1)\n",
        "\n",
        "weights_init(model)"
      ],
      "execution_count": 65,
      "outputs": []
    },
    {
      "cell_type": "code",
      "metadata": {
        "id": "WrD_sNzLx78e"
      },
      "source": [
        "loss_func = nn.L1Loss()"
      ],
      "execution_count": 66,
      "outputs": []
    },
    {
      "cell_type": "code",
      "metadata": {
        "id": "-zvbrMd2x_lA"
      },
      "source": [
        "optimizer = optim.SGD(model.parameters(), lr=0.02, momentum=0.9)\n"
      ],
      "execution_count": 67,
      "outputs": []
    },
    {
      "cell_type": "markdown",
      "metadata": {
        "id": "x5CLrY0di5pg"
      },
      "source": [
        "Now changing the epochsize to 2001"
      ]
    },
    {
      "cell_type": "code",
      "metadata": {
        "colab": {
          "base_uri": "https://localhost:8080/"
        },
        "id": "q7tWa3D7yA5X",
        "outputId": "f8e21466-d622-4945-eafc-d9736a83a7ef"
      },
      "source": [
        "epochs = 2001\n",
        "steps = X.size(0)\n",
        "for i in range(epochs):\n",
        "    for j in range(steps):\n",
        "        data_point = np.random.randint(X.size(0))\n",
        "        x_var = Variable(X[data_point], requires_grad=False)\n",
        "        y_var = Variable(Y[data_point], requires_grad=False)\n",
        "        \n",
        "        optimizer.zero_grad()\n",
        "        y_hat = model(x_var)\n",
        "        loss = loss_func.forward(y_hat, y_var)\n",
        "        loss.backward()\n",
        "        optimizer.step()\n",
        "        \n",
        "    if i % 50 == 0:\n",
        "        print( \"Epoch: {0}, Loss: {1}, \".format(i, loss.data.numpy()))"
      ],
      "execution_count": 68,
      "outputs": [
        {
          "output_type": "stream",
          "name": "stderr",
          "text": [
            "/usr/local/lib/python3.7/dist-packages/torch/nn/functional.py:1794: UserWarning: nn.functional.tanh is deprecated. Use torch.tanh instead.\n",
            "  warnings.warn(\"nn.functional.tanh is deprecated. Use torch.tanh instead.\")\n",
            "/usr/local/lib/python3.7/dist-packages/torch/nn/modules/loss.py:97: UserWarning: Using a target size (torch.Size([1])) that is different to the input size (torch.Size([4])). This will likely lead to incorrect results due to broadcasting. Please ensure they have the same size.\n",
            "  return F.l1_loss(input, target, reduction=self.reduction)\n"
          ]
        },
        {
          "output_type": "stream",
          "name": "stdout",
          "text": [
            "Epoch: 0, Loss: 0.3856850862503052, \n",
            "Epoch: 50, Loss: 0.07783161103725433, \n",
            "Epoch: 100, Loss: 0.15112735331058502, \n",
            "Epoch: 150, Loss: 0.023352302610874176, \n",
            "Epoch: 200, Loss: 0.21318677067756653, \n",
            "Epoch: 250, Loss: 0.082053042948246, \n",
            "Epoch: 300, Loss: 0.6621289253234863, \n",
            "Epoch: 350, Loss: 0.1882946789264679, \n",
            "Epoch: 400, Loss: 0.03383924067020416, \n",
            "Epoch: 450, Loss: 0.06015735864639282, \n",
            "Epoch: 500, Loss: 0.034940510988235474, \n",
            "Epoch: 550, Loss: 0.05251380801200867, \n",
            "Epoch: 600, Loss: 0.09037314355373383, \n",
            "Epoch: 650, Loss: 0.03485924005508423, \n",
            "Epoch: 700, Loss: 0.04617494344711304, \n",
            "Epoch: 750, Loss: 0.039390504360198975, \n",
            "Epoch: 800, Loss: 0.04086369276046753, \n",
            "Epoch: 850, Loss: 0.041898444294929504, \n",
            "Epoch: 900, Loss: 0.018818184733390808, \n",
            "Epoch: 950, Loss: 0.02518583834171295, \n",
            "Epoch: 1000, Loss: 0.03203803300857544, \n",
            "Epoch: 1050, Loss: 0.03625115752220154, \n",
            "Epoch: 1100, Loss: 0.045568957924842834, \n",
            "Epoch: 1150, Loss: 0.054701805114746094, \n",
            "Epoch: 1200, Loss: 0.017770111560821533, \n",
            "Epoch: 1250, Loss: 0.0531868040561676, \n",
            "Epoch: 1300, Loss: 0.009402155876159668, \n",
            "Epoch: 1350, Loss: 0.10484617948532104, \n",
            "Epoch: 1400, Loss: 0.023699462413787842, \n",
            "Epoch: 1450, Loss: 0.05824016034603119, \n",
            "Epoch: 1500, Loss: 0.045939311385154724, \n",
            "Epoch: 1550, Loss: 0.03403308987617493, \n",
            "Epoch: 1600, Loss: 0.06746956706047058, \n",
            "Epoch: 1650, Loss: 0.03683812916278839, \n",
            "Epoch: 1700, Loss: 0.007026687264442444, \n",
            "Epoch: 1750, Loss: 0.029471009969711304, \n",
            "Epoch: 1800, Loss: 0.016019746661186218, \n",
            "Epoch: 1850, Loss: 0.05066937208175659, \n",
            "Epoch: 1900, Loss: 0.09636174142360687, \n",
            "Epoch: 1950, Loss: 0.07886137068271637, \n",
            "Epoch: 2000, Loss: 0.08056752383708954, \n"
          ]
        }
      ]
    },
    {
      "cell_type": "code",
      "metadata": {
        "id": "QV0dIdveyCRi"
      },
      "source": [
        ""
      ],
      "execution_count": null,
      "outputs": []
    }
  ]
}